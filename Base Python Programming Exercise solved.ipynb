{
 "cells": [
  {
   "cell_type": "markdown",
   "metadata": {},
   "source": [
    "## Python Basic Programming Exercises"
   ]
  },
  {
   "cell_type": "raw",
   "metadata": {},
   "source": [
    "Q1: What is the output of following expression\n",
    "    5 + 4 * 9 % (3 + 1) / 6 - 1"
   ]
  },
  {
   "cell_type": "code",
   "execution_count": 1,
   "metadata": {},
   "outputs": [
    {
     "data": {
      "text/plain": [
       "4.0"
      ]
     },
     "execution_count": 1,
     "metadata": {},
     "output_type": "execute_result"
    }
   ],
   "source": [
    "5 + 4 * 9 % (3 + 1) / 6 - 1\n",
    "    "
   ]
  },
  {
   "cell_type": "raw",
   "metadata": {},
   "source": [
    "Q2: Write a program to check if a Number is Odd or Even. Take number as a input from user at runtime."
   ]
  },
  {
   "cell_type": "code",
   "execution_count": 2,
   "metadata": {},
   "outputs": [
    {
     "name": "stdout",
     "output_type": "stream",
     "text": [
      "Enter the number:9\n",
      "The Entered number 9 is Odd\n"
     ]
    }
   ],
   "source": [
    "A = int(input(\"Enter the number:\"))\n",
    "if (A%2==0):\n",
    "    print (\"The Entered number\", A, \"is Even\")\n",
    "else:\n",
    "    print (\"The Entered number\", A, \"is Odd\")"
   ]
  },
  {
   "cell_type": "raw",
   "metadata": {},
   "source": [
    "Q3: Write a program to display the multiplication table by taking a number as input. \n",
    "    [Hint : Use print statement inside of a loop]"
   ]
  },
  {
   "cell_type": "code",
   "execution_count": 3,
   "metadata": {},
   "outputs": [
    {
     "name": "stdout",
     "output_type": "stream",
     "text": [
      "Displaying the Multiplication Table:6\n",
      "6 X 1 = 6\n",
      "6 X 2 = 12\n",
      "6 X 3 = 18\n",
      "6 X 4 = 24\n",
      "6 X 5 = 30\n",
      "6 X 6 = 36\n",
      "6 X 7 = 42\n",
      "6 X 8 = 48\n",
      "6 X 9 = 54\n",
      "6 X 10 = 60\n"
     ]
    }
   ],
   "source": [
    "B = int(input(\"Displaying the Multiplication Table:\"))\n",
    "for i in range (1,11):\n",
    "    print(B,\"X\",i, \"=\",B*i)\n"
   ]
  },
  {
   "cell_type": "raw",
   "metadata": {},
   "source": [
    "Q4: Write a program which will find all numbers between 2000 and 3200 which are divisible by 7 \n",
    "    but are not a multiple of 5.\n",
    " \n",
    "Note: The numbers obtained should be printed in a comma-separated sequence on a single line."
   ]
  },
  {
   "cell_type": "code",
   "execution_count": 4,
   "metadata": {},
   "outputs": [
    {
     "name": "stdout",
     "output_type": "stream",
     "text": [
      "2002,2009,2016,2023,2037,2044,2051,2058,2072,2079,2086,2093,2107,2114,2121,2128,2142,2149,2156,2163,2177,2184,2191,2198,2212,2219,2226,2233,2247,2254,2261,2268,2282,2289,2296,2303,2317,2324,2331,2338,2352,2359,2366,2373,2387,2394,2401,2408,2422,2429,2436,2443,2457,2464,2471,2478,2492,2499,2506,2513,2527,2534,2541,2548,2562,2569,2576,2583,2597,2604,2611,2618,2632,2639,2646,2653,2667,2674,2681,2688,2702,2709,2716,2723,2737,2744,2751,2758,2772,2779,2786,2793,2807,2814,2821,2828,2842,2849,2856,2863,2877,2884,2891,2898,2912,2919,2926,2933,2947,2954,2961,2968,2982,2989,2996,3003,3017,3024,3031,3038,3052,3059,3066,3073,3087,3094,3101,3108,3122,3129,3136,3143,3157,3164,3171,3178,3192,3199,\n",
      "\n",
      "The total numbers between 2000 and 3200 which are divisible by 7 and not a multiple of 5 is:  138\n"
     ]
    }
   ],
   "source": [
    "K1=[]\n",
    "for i in range(2000,3201):\n",
    "    if (i%7==0) and (i%5!=0):\n",
    "        print(i,end=',')\n",
    "        K1.append(i)\n",
    "#K1\n",
    "print(\"\\n\\nThe total numbers between 2000 and 3200 which are divisible by 7 and not a multiple of 5 is: \", len (K1)) #length of K1    "
   ]
  },
  {
   "cell_type": "raw",
   "metadata": {},
   "source": [
    "Q5: Count the elements of each datatype inside the list and display in output\n",
    "    [2, 3, 'Py', '10', 1, 'SQL', 5.5, True, 3, 'John', None, 7]    "
   ]
  },
  {
   "cell_type": "code",
   "execution_count": 5,
   "metadata": {},
   "outputs": [
    {
     "name": "stdout",
     "output_type": "stream",
     "text": [
      "The number of Strings available in the list is: 4\n",
      "The number of Float available in the list is: 1\n",
      "The number of Boolean available in the list is: 1\n",
      "The number of Integer available in the list is: 5\n",
      "The number of None available in the list is: 1\n"
     ]
    }
   ],
   "source": [
    "L =  [2, 3, 'Py', '10', 1, 'SQL', 5.5, True, 3, 'John', None, 7] \n",
    "Int_count = 0\n",
    "String_count = 0\n",
    "Float_count = 0\n",
    "Bool_count = 0\n",
    "None_count = 0\n",
    "for i in L:\n",
    "    if isinstance (i,str):\n",
    "        String_count += 1\n",
    "    elif isinstance (i,float):\n",
    "        Float_count +=1\n",
    "    elif isinstance (i,bool):\n",
    "        Bool_count +=1\n",
    "    elif isinstance (i,int):\n",
    "        Int_count +=1\n",
    "    else:\n",
    "        None_count +=1\n",
    "print(\"The number of Strings available in the list is:\", String_count)\n",
    "print(\"The number of Float available in the list is:\", Float_count)    \n",
    "print(\"The number of Boolean available in the list is:\", Bool_count)  \n",
    "print(\"The number of Integer available in the list is:\", Int_count)\n",
    "print(\"The number of None available in the list is:\", None_count)"
   ]
  },
  {
   "cell_type": "raw",
   "metadata": {},
   "source": [
    "Q6: Add all values from the list with numeric datatypes \n",
    "    [2, 3, 'Py', '10', 1, 'SQL', 5.5, True, 3, 'John', None, 7] "
   ]
  },
  {
   "cell_type": "code",
   "execution_count": 6,
   "metadata": {},
   "outputs": [
    {
     "name": "stdout",
     "output_type": "stream",
     "text": [
      "The sum of the numbers from the list is: 17\n"
     ]
    }
   ],
   "source": [
    "List =  [2, 3, 'Py', '10', 1, 'SQL', 5.5, True, 3, 'John', None, 7] \n",
    "Sum_val = sum ([i for i in List if isinstance (i,int)])\n",
    "print (\"The sum of the numbers from the list is:\",Sum_val)"
   ]
  },
  {
   "cell_type": "raw",
   "metadata": {},
   "source": [
    "Q7: Concat all str datatypes with hyphen as a delimiter\n",
    "    [2, 3, 'Py', '10', 1, 'SQL', 5.5, True, 3, 'John', None, 7] "
   ]
  },
  {
   "cell_type": "code",
   "execution_count": 7,
   "metadata": {},
   "outputs": [
    {
     "name": "stdout",
     "output_type": "stream",
     "text": [
      "Concat string is: Py-10-SQL-John\n"
     ]
    }
   ],
   "source": [
    "L3 = [2, 3, 'Py', '10', 1, 'SQL', 5.5, True, 3, 'John', None, 7]\n",
    "String = (i for i in L3 if isinstance (i,str))\n",
    "#String\n",
    "Concat = \"-\".join(String)\n",
    "print (\"Concat string is:\",Concat)"
   ]
  },
  {
   "cell_type": "raw",
   "metadata": {},
   "source": [
    "Q8: Write a UDF that takes list as input and returns sum of all numbers \n",
    "    (exclude bool) and count of all str \n",
    "    [2, 3, 'Py', '10', 1, 'SQL', 5.5, True, 3, 'John', None, 7] \n",
    "    \n",
    "Hint:\n",
    "-----\n",
    "def my_func:\n",
    "    # your code\n",
    "        \n",
    "my_func(l1)\n",
    "# output --> {'Sum': xxx, 'Count_of_Strs': xxx}"
   ]
  },
  {
   "cell_type": "code",
   "execution_count": null,
   "metadata": {},
   "outputs": [],
   "source": [
    "New_list = [2, 3, 'Py', '10', 1, 'SQL', 5.5, True, 3, 'John', None, 7]\n",
    "my_di = {\"Sum\":[],\n",
    "           \"Count_of_Strs\":[]};    \n",
    "def Sum1(New_list):\n",
    "    Sum =sum ([i for i in List if isinstance (i,int)])\n",
    "    return (Sum)\n",
    "#print (\"The sum of the numbers in the List:\", Sum)\n",
    "\n",
    "def count_str(New_list):\n",
    "    String_count = 0\n",
    "    for i in New_list:\n",
    "        if isinstance (i,str):\n",
    "            String_count += 1\n",
    "            \n",
    "my_di[\"Sum\"].append(Sum1(New_list))\n",
    "my_di[\"Count_of_Strs\"].append(String_count)\n",
    "print(my_di)\n",
    "#print(\"The number of Strings available in the list is:\", String_count)"
   ]
  },
  {
   "cell_type": "raw",
   "metadata": {},
   "source": [
    "Q9: Get only odd numbers from the following list and store the numbers in new list\n",
    "    li = [5, 7, 22, 97, 54, 62, 77, 23, 73, 61]\n",
    "\n",
    "    i. Use loops to get the answer\n",
    "   ii. Use list comprehensions\n",
    "  iii. Use lambda function with filter"
   ]
  },
  {
   "cell_type": "code",
   "execution_count": 9,
   "metadata": {},
   "outputs": [
    {
     "data": {
      "text/plain": [
       "[5, 7, 97, 77, 23, 73, 61]"
      ]
     },
     "execution_count": 9,
     "metadata": {},
     "output_type": "execute_result"
    }
   ],
   "source": [
    "#using loops \n",
    "li = [5, 7, 22, 97, 54, 62, 77, 23, 73, 61]\n",
    "lodd = []\n",
    "for i in li:\n",
    "    if (i%2!=0):\n",
    "        lodd.append(i)\n",
    "lodd"
   ]
  },
  {
   "cell_type": "code",
   "execution_count": 10,
   "metadata": {},
   "outputs": [
    {
     "data": {
      "text/plain": [
       "[5, 7, 97, 77, 23, 73, 61]"
      ]
     },
     "execution_count": 10,
     "metadata": {},
     "output_type": "execute_result"
    }
   ],
   "source": [
    "#using list comprehension\n",
    "li = [5, 7, 22, 97, 54, 62, 77, 23, 73, 61]\n",
    "lodd = [i for i in li if i%2!=0]\n",
    "lodd"
   ]
  },
  {
   "cell_type": "code",
   "execution_count": 11,
   "metadata": {},
   "outputs": [
    {
     "data": {
      "text/plain": [
       "[5, 7, 97, 77, 23, 73, 61]"
      ]
     },
     "execution_count": 11,
     "metadata": {},
     "output_type": "execute_result"
    }
   ],
   "source": [
    "#using lamda function with filter\n",
    "li = [5, 7, 22, 97, 54, 62, 77, 23, 73, 61]\n",
    "lodd = list(filter(lambda li:li%2!=0,li))\n",
    "lodd"
   ]
  },
  {
   "cell_type": "raw",
   "metadata": {},
   "source": [
    "Q10: Write a UDF to return the descriptives [sum, count, min, mean, max] for a list of n number of input \n",
    "    numbers."
   ]
  },
  {
   "cell_type": "code",
   "execution_count": 1,
   "metadata": {},
   "outputs": [
    {
     "name": "stdout",
     "output_type": "stream",
     "text": [
      "Enter the length of the List:9\n",
      "5\n",
      "2\n",
      "1\n",
      "5\n",
      "4\n",
      "5\n",
      "4\n",
      "4\n",
      "1\n",
      "The sum of the numbers in the List: 31\n",
      "Enter the number that has to be counted:9\n",
      "The count of the entered number in the List is: 0\n",
      "The minimum value in the list is: 1\n",
      "The mean value in the list is: 3.4444444444444446\n",
      "The maximum value in the list is: 5\n"
     ]
    }
   ],
   "source": [
    "L = []\n",
    "N = int(input(\"Enter the length of the List:\"))\n",
    "for i in range (0,N):\n",
    "    element = int(input())\n",
    "    L.append(element)\n",
    "    \n",
    "def s(L):\n",
    "    Total_sum = 0\n",
    "    for i in L:\n",
    "        Total_sum = Total_sum + i\n",
    "    return (Total_sum)\n",
    "print (\"The sum of the numbers in the List:\", s(L))\n",
    "\n",
    "def c(L):\n",
    "    count_number = int(input(\"Enter the number that has to be counted:\"))\n",
    "    L.count(count_number)\n",
    "    return (L.count(count_number))\n",
    "print (\"The count of the entered number in the List is:\", c(L))\n",
    "\n",
    "def mini(L):\n",
    "    min_val = min(L) \n",
    "    return(min_val)\n",
    "print (\"The minimum value in the list is:\", mini(L))\n",
    "\n",
    "def mean(L):\n",
    "    mean_val = sum (L) / len (L) \n",
    "    return(mean_val)\n",
    "print (\"The mean value in the list is:\", mean(L))\n",
    "\n",
    "def maxi(L):\n",
    "    max_val = max(L) \n",
    "    return(max_val)\n",
    "print (\"The maximum value in the list is:\", maxi(L))\n"
   ]
  },
  {
   "cell_type": "raw",
   "metadata": {},
   "source": [
    "Q11: Write an udf to calculate the area of different shapes\n",
    "\n",
    "Take shape and dimensions as arguments to udf as follows : \n",
    "\n",
    "1. square which has side\n",
    "2. rectangle which has length and width\n",
    "3. circle which has radius\n",
    "\n",
    "The shape should be a positional argument and it's dimensions are taken as kwargs\n",
    "\n",
    "Perform proper validation for the user inputs and then calculate area.\n",
    "\n",
    "E.g. if shape is square, ensure kwargs has \"side\" and if so, then you may return the area, else display appropriate error message like \"Please enter 'side' for a square\""
   ]
  },
  {
   "cell_type": "code",
   "execution_count": 1,
   "metadata": {},
   "outputs": [
    {
     "name": "stdout",
     "output_type": "stream",
     "text": [
      "Enter the side length of the square:15\n",
      "The area of the square is: 225\n",
      "Enter the length of the rectangle:10\n",
      "Enter the width of the rectangle:20\n",
      "The area of the Rectangle is: 200\n",
      "Enter the radius of the circle:5\n",
      "The area of the circle is: 78.5\n"
     ]
    }
   ],
   "source": [
    "#Area of a square: a*2\n",
    "S = int(input(\"Enter the side length of the square:\"))\n",
    "def square_area(S):\n",
    "    sq = S*S\n",
    "    return (sq)\n",
    "print (\"The area of the square is:\", square_area(S))\n",
    "\n",
    "#Area of the rectangle: l * w\n",
    "Length = int(input(\"Enter the length of the rectangle:\"))\n",
    "Width = int(input(\"Enter the width of the rectangle:\"))\n",
    "def rect_area(Length, Width):\n",
    "    re = Length * Width\n",
    "    return (re)\n",
    "print (\"The area of the Rectangle is:\", rect_area(Length, Width))\n",
    "\n",
    "#Area of the circle\n",
    "R = int(input(\"Enter the radius of the circle:\"))\n",
    "def circle_area(R):\n",
    "    C = 3.14*(R**2)\n",
    "    return (C)\n",
    "print (\"The area of the circle is:\", circle_area(R))"
   ]
  },
  {
   "cell_type": "raw",
   "metadata": {},
   "source": [
    "Q12: Write a UDF to reconcile the values within two lists.\n",
    "    l1 = ['January', 'February', 'March', 'May', 'June', 'September', 'December']\n",
    "    l2 = ['January', 'February', 'April', 'June', 'October', 'December']\n",
    "\n",
    "Hint:\n",
    "-----\n",
    "def func(l1, l2):\n",
    "    your code here...\n",
    "    \n",
    "Output:\n",
    "{'Matched': ['January', 'February', 'June', 'December'],\n",
    "    'Only in l1': ['March', 'May', 'September'],\n",
    "        'Only in l2': ['April', 'October']}"
   ]
  },
  {
   "cell_type": "code",
   "execution_count": 2,
   "metadata": {},
   "outputs": [
    {
     "name": "stdout",
     "output_type": "stream",
     "text": [
      "{'Matched': [['December', 'January', 'February', 'June']], 'only in l1': [['September', 'May', 'March']], 'only in l2': [['April', 'October']]}\n"
     ]
    }
   ],
   "source": [
    "l1 = ['January', 'February', 'March', 'May', 'June', 'September', 'December']\n",
    "l2 = ['January', 'February', 'April', 'June', 'October', 'December']\n",
    "my_dict = {\"Matched\":[],\n",
    "           \"only in l1\":[],\n",
    "           \"only in l2\":[]};\n",
    "\n",
    "def func(l1,l2):\n",
    "    Matched = list (set (l1).intersection (set (l2)))\n",
    "    return (Matched)\n",
    "#print (\"Matched:\", func(l1,l2))\n",
    "\n",
    "def only_l1(l1,l2):\n",
    "    Only_l1 = list (set(l1) - set(l2))\n",
    "    return(Only_l1)\n",
    "#print (\"Only in l1:\", only_l1(l1,l2))\n",
    "\n",
    "def only_l2(l1,l2):\n",
    "    Only_l2 = list (set(l2) - set(l1))\n",
    "    return(Only_l2)\n",
    "#print (\"Only in l2:\", only_l2(l1,l2))\n",
    "\n",
    "my_dict[\"Matched\"].append(func(l1,l2))\n",
    "my_dict[\"only in l1\"].append(only_l1(l1,l2))\n",
    "my_dict[\"only in l2\"].append(only_l2(l1,l2))\n",
    "print(my_dict)"
   ]
  },
  {
   "cell_type": "raw",
   "metadata": {
    "collapsed": true
   },
   "source": [
    "Q13: write a UDF to check if a number is prime or not."
   ]
  },
  {
   "cell_type": "code",
   "execution_count": null,
   "metadata": {},
   "outputs": [],
   "source": [
    "Z = int(input(\"Enter the number:\"))\n",
    "def prime(Z):\n",
    "    for i in range(2,int(Z**1/2)+1):\n",
    "        if (Z%i==0):\n",
    "            print (\"The entered number is not prime\")\n",
    "            return (\"\")\n",
    "    print (\"The entered number is prime\")\n",
    "    return (\"\")    \n",
    "print(prime(Z))"
   ]
  },
  {
   "cell_type": "raw",
   "metadata": {
    "collapsed": true
   },
   "source": [
    "Q14. Write a program which can compute the factorial of a given numbers. \n",
    "#   The results should be printed in a comma-separated sequence on a single line. \n",
    "# input() function can be used for getting user(console) input\n",
    "\n",
    "\n",
    "#Suppose the input is supplied to the program:  8  \n",
    "#Then, the output should be:  40320 \n",
    "#Hints: In case of input data being supplied to the question, it should be assumed to be a console input. \n"
   ]
  },
  {
   "cell_type": "code",
   "execution_count": null,
   "metadata": {},
   "outputs": [],
   "source": [
    "J = int(input(\"Enter the number:\"))\n",
    "factorial = 1\n",
    "if J<0:\n",
    "    print (\"The factorial doesnt exist for negativ numbers\")\n",
    "elif J==0:\n",
    "    print (\"The factorial of 0 is 1\")\n",
    "else:\n",
    "    for i in range (1,J+1):\n",
    "        factorial = factorial*i\n",
    "    print (\"The factorial of\",J,\"is\", factorial)\n",
    "    "
   ]
  },
  {
   "cell_type": "raw",
   "metadata": {
    "collapsed": true
   },
   "source": [
    "Q15. With a given integral number n, write a program to generate a dictionary that contains (i, i*i) such that is an integral number between 1 and n (both included). and then the program should print the dictionary.\n",
    "\n",
    "#Suppose the following input is supplied to the program: 8\n",
    "#Then, the output should be: {1: 1, 2: 4, 3: 9, 4: 16, 5: 25, 6: 36, 7: 49, 8: 64}\n",
    "#Hints: In case of input data being supplied to the question, it should be assumed to be a console input. Consider using dict()\n",
    "\n"
   ]
  },
  {
   "cell_type": "code",
   "execution_count": null,
   "metadata": {},
   "outputs": [],
   "source": [
    "N = int(input(\"Input a number: \"))\n",
    "d = dict()\n",
    "for i in range(1,N+1):\n",
    "    d[i] = i*i\n",
    "print(d) "
   ]
  },
  {
   "cell_type": "raw",
   "metadata": {
    "collapsed": true
   },
   "source": [
    "Q16. Write a program which accepts a sequence of comma-separated numbers from console and generate a list and a tuple which contains every number.\n",
    "#Suppose the following input is supplied to the program: 34,67,55,33,12,98\n",
    "    #Then, the output should be: ['34', '67', '55', '33', '12', '98'] ('34', '67', '55', '33', '12', '98')\n",
    "\n",
    "#Hints: In case of input data being supplied to the question, it should be assumed to be a console input. you may use tuple() method to convert list to tuple\n"
   ]
  },
  {
   "cell_type": "code",
   "execution_count": null,
   "metadata": {},
   "outputs": [],
   "source": [
    "val = input(\"Enter the numbers seperated by comma: \")\n",
    "li = val.split(\",\")\n",
    "tu = tuple(li)\n",
    "print('The created List is:',li)\n",
    "print('The created Tuple is:',tu)\n"
   ]
  },
  {
   "cell_type": "raw",
   "metadata": {
    "collapsed": true
   },
   "source": [
    "Q17. Write a program that accepts a comma separated sequence of words as input and \n",
    "# prints the words in a comma-separated sequence after sorting them alphabetically.\n",
    "\n",
    "# Suppose the following input is supplied to the program: without,hello,bag,world\n",
    "# Then, the output should be: bag,hello,without,world\n",
    "\n",
    "#Hints: In case of input data being supplied to the question, it should be assumed to be a console input.\n"
   ]
  },
  {
   "cell_type": "code",
   "execution_count": null,
   "metadata": {},
   "outputs": [],
   "source": [
    "In = input (\"Enter the word:\")\n",
    "D = In.split(\",\")\n",
    "D.sort()\n",
    "print((',').join(D))"
   ]
  },
  {
   "cell_type": "raw",
   "metadata": {
    "collapsed": true
   },
   "source": [
    "Q18. Write a program that accepts a sequence of whitespace separated words \n",
    "# as input and prints the words after removing all duplicate words and sorting them alphanumerically.\n",
    "# Suppose the following input is supplied to the program: hello world and practice makes perfect and hello world again\n",
    "# Then, the output should be: again and hello makes perfect practice world\n",
    "\n",
    "#Hints: In case of input data being supplied to the question, it should be assumed to be a console input.\n",
    "#We use set container to remove duplicated data automatically and then use sorted() to sort the data.\n"
   ]
  },
  {
   "cell_type": "code",
   "execution_count": null,
   "metadata": {},
   "outputs": [],
   "source": [
    "words = input (\"Enter the word:\")\n",
    "New_word = words.split(\" \")\n",
    "word_L =[]\n",
    "for i in New_word:\n",
    "    if i not in word_L:\n",
    "        word_L.append(i)\n",
    "    else:\n",
    "        continue\n",
    "word_L.sort()\n",
    "print((' ').join(word_L))"
   ]
  },
  {
   "cell_type": "raw",
   "metadata": {
    "collapsed": true
   },
   "source": [
    "Q19. Write a program that accepts a sentence and calculate the number of upper case \n",
    "# letters and lower case letters.\n",
    "#Suppose the following input is supplied to the program: Hello world!\n",
    "#Then, the output should be: UPPER CASE 1 LOWER CASE 9\n",
    "\n",
    "#Hints: In case of input data being supplied to the question, it should be assumed to be a console input.\n"
   ]
  },
  {
   "cell_type": "code",
   "execution_count": null,
   "metadata": {},
   "outputs": [],
   "source": [
    "Input = input (\"Enter the word:\")\n",
    "Upper = 0\n",
    "Lower = 0\n",
    "for i in Input:\n",
    "    if i.isupper():\n",
    "        Upper += 1\n",
    "    elif i.islower():\n",
    "        Lower += 1\n",
    "print (\"The number of Uppercase in the given input is:\", Upper)\n",
    "print (\"The number of Lowercase in the given input is:\", Lower)"
   ]
  },
  {
   "cell_type": "raw",
   "metadata": {
    "collapsed": true
   },
   "source": [
    "Q20. Write a program that takes a string and returns reversed string. i.e. if input is \"abcd123\" output should be \"321dcba\""
   ]
  },
  {
   "cell_type": "code",
   "execution_count": 1,
   "metadata": {},
   "outputs": [
    {
     "name": "stdout",
     "output_type": "stream",
     "text": [
      "hsekaR\n"
     ]
    }
   ],
   "source": [
    "Y = \"Rakesh\" [::-1]\n",
    "print (Y)\n"
   ]
  },
  {
   "cell_type": "code",
   "execution_count": null,
   "metadata": {},
   "outputs": [],
   "source": []
  }
 ],
 "metadata": {
  "kernelspec": {
   "display_name": "Python 3 (ipykernel)",
   "language": "python",
   "name": "python3"
  },
  "language_info": {
   "codemirror_mode": {
    "name": "ipython",
    "version": 3
   },
   "file_extension": ".py",
   "mimetype": "text/x-python",
   "name": "python",
   "nbconvert_exporter": "python",
   "pygments_lexer": "ipython3",
   "version": "3.9.7"
  },
  "varInspector": {
   "cols": {
    "lenName": 16,
    "lenType": 16,
    "lenVar": 40
   },
   "kernels_config": {
    "python": {
     "delete_cmd_postfix": "",
     "delete_cmd_prefix": "del ",
     "library": "var_list.py",
     "varRefreshCmd": "print(var_dic_list())"
    },
    "r": {
     "delete_cmd_postfix": ") ",
     "delete_cmd_prefix": "rm(",
     "library": "var_list.r",
     "varRefreshCmd": "cat(var_dic_list()) "
    }
   },
   "types_to_exclude": [
    "module",
    "function",
    "builtin_function_or_method",
    "instance",
    "_Feature"
   ],
   "window_display": false
  }
 },
 "nbformat": 4,
 "nbformat_minor": 2
}
